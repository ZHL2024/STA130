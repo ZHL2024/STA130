{
 "cells": [
  {
   "cell_type": "markdown",
   "id": "b38f300b",
   "metadata": {},
   "source": [
    "## Q1:"
   ]
  },
  {
   "cell_type": "markdown",
   "id": "aab6f3f0",
   "metadata": {},
   "source": [
    "1. The difference between SLR and MLR is that SLR has only one variables and MLR can have multiple variables. The benefit of MLR over SLR is that MLR can evaluate multiple factors that affect the result, which has more accurate ability of predicting than SLR.\n",
    "\n",
    "2. Continuous Variables can indicate the tendency of dependent variables as the continuous variables change. Indicator Variables can sort out different kinds of variables and help us analyse the dependent variables affected by different sorts of variables.\n",
    "\n",
    "    Continuous Variables: y = b0 + b1 * x + ϵ\n",
    "    Indicator Variables: y = b0 + b1 * d + ϵ (d = 0 or 1)\n",
    "    \n",
    "3. The model can not only analyse the continuous variables but also sort the data according to the indicator variables.\n",
    "\n",
    "    SLR: y = b0 + b1 * x + ϵ\n",
    "    MLR: y = b0 + b1 * x + b2 * d + ϵ (d = 0 or 1)\n",
    "\n",
    "4. An interaction in MLR can make model fit the data in different sorts better.\n",
    "\n",
    "    y = b0 + b1 * x + b2 * d + b3 * (x * d) + ϵ (d = 0 or 1)\n",
    "    \n",
    "5. The model will fit data by different categories and make predictions for every different category.\n",
    "\n",
    "    y = b0 + b1 * d1 + b2 * d2 + ⋯ + b_(k−1) * d_(k−1) + ϵ (d_i = 0 or 1)"
   ]
  },
  {
   "cell_type": "markdown",
   "id": "04b87073",
   "metadata": {},
   "source": [
    "#### Summary:\n",
    "Simple vs. Multiple Linear Regression:\n",
    "\n",
    "Simple Linear Regression (SLR): Involves a single continuous predictor, providing a uniform slope for all data points, assuming a direct, linear relationship between the predictor and outcome.\n",
    "Multiple Linear Regression (MLR): Incorporates multiple predictors, which can include continuous and indicator (categorical) variables, offering more flexibility to account for multiple factors affecting the outcome. MLR provides improved predictive accuracy, the ability to control for confounding variables, and insights into individual predictor effects.\n",
    "Continuous vs. Indicator Variables in SLR:\n",
    "\n",
    "Continuous Predictor: Models a gradient relationship with the outcome, where the slope reflects the rate of change per unit increase in the predictor.\n",
    "Indicator Variable: A binary variable that captures group-based differences by shifting the outcome’s mean for one group relative to another, providing insights into group differences rather than a continuous trend.\n",
    "Introducing an Indicator Variable to MLR:\n",
    "\n",
    "Adding an indicator variable alongside a continuous predictor in MLR creates a model with parallel lines for each group. It allows for distinct intercepts for each group while keeping the slope (relationship with the continuous predictor) constant across groups. This setup captures group-based shifts in outcome while preserving a uniform effect of the continuous variable.\n",
    "Adding an Interaction Term:\n",
    "\n",
    "Introducing an interaction between a continuous predictor and an indicator variable allows group-specific slopes, meaning the effect of the continuous predictor on the outcome can vary by group. This creates non-parallel lines, enabling the model to reflect complex relationships where each group has its own intercept and slope.\n",
    "MLR with Only Indicator Variables:\n",
    "\n",
    "When MLR includes only indicators derived from a non-binary categorical variable, the model estimates group-specific means without continuous trends. Dummy variable encoding (binary encoding with one reference category) is used to capture each category distinctly and avoids multicollinearity by setting one category as a baseline. Each coefficient represents the mean difference between a category and the baseline, providing insight into categorical effects rather than continuous relationships."
   ]
  },
  {
   "cell_type": "markdown",
   "id": "4d16b601",
   "metadata": {},
   "source": [
    "#### Link: https://chatgpt.com/share/67354c15-9edc-8003-8821-077917bcaf26"
   ]
  },
  {
   "cell_type": "markdown",
   "id": "f7ea0754",
   "metadata": {},
   "source": [
    "## Q2:"
   ]
  },
  {
   "cell_type": "markdown",
   "id": "cb5ff914",
   "metadata": {},
   "source": [
    "Dependent Variables: Income\n",
    "Variables: TV advertisement budget and online advertisement budget\n",
    "\n",
    "Since the budget between TV and Online may affect the advertisement result, we need to take the interactions into account.\n",
    "\n",
    "Without interactions: Sales=β0+β1⋅TV_ad_budget+β2⋅Online_ad_budget+ϵ\n",
    "\n",
    "With interactions: Sales=β0+β1⋅TV_ad_budget+β2⋅Online_ad_budget+β3⋅(TV_ad_budget×Online_ad_budget)+ϵ"
   ]
  },
  {
   "cell_type": "markdown",
   "id": "a2671208",
   "metadata": {},
   "source": [
    "#### Summary: \n",
    "Scenario Setup: We discussed a sports equipment company running advertising campaigns on TV and online platforms, where sales revenue depends on the ad spend in each medium, and there might be an interaction effect between the two.\n",
    "\n",
    "Outcome and Predictors:\n",
    "\n",
    "Outcome: Sales revenue (continuous variable).\n",
    "Predictors: Amounts spent on TV advertising and online advertising (both continuous).\n",
    "Interaction Effects: Given the potential dependency of one advertising medium’s effectiveness on the other, an interaction term between TV and online ad spending may be relevant.\n",
    "\n",
    "Linear Models:\n",
    "\n",
    "Without Interaction: A model where sales depend on TV and online ad spend independently.\n",
    "With Interaction: A model that includes a term for the interaction between TV and online ad spend, allowing for nuanced effects.\n",
    "Prediction Explanation:\n",
    "\n",
    "Without Interaction: Predicts sales based solely on each medium’s ad spend independently.\n",
    "With Interaction: Captures potential amplifying or diminishing effects between TV and online ad spending, potentially offering a more accurate prediction.\n",
    "Binary Variables for Ad Levels:\n",
    "\n",
    "Binary Predictors: If ad budgets are categorized as \"high\" or \"low\" instead of continuous, TV and online ad levels become binary variables.\n",
    "Binary Models:\n",
    "Without Interaction: Predicts sales based on ad level (high or low) for each medium independently.\n",
    "With Interaction: Allows for a combined effect if both TV and online ad levels are high or low."
   ]
  },
  {
   "cell_type": "markdown",
   "id": "70729908",
   "metadata": {},
   "source": [
    "#### Link: https://chatgpt.com/share/67355da0-017c-8003-8e86-5a221fd6a470"
   ]
  },
  {
   "cell_type": "markdown",
   "id": "fe9600dd",
   "metadata": {},
   "source": [
    "## Q4:"
   ]
  },
  {
   "cell_type": "markdown",
   "id": "7a96f7d7",
   "metadata": {},
   "source": [
    "Because R^2 refers to the explanation ability of the whole model, while p-value is only related to certain variables and dependent variables. There is not apparent connection between each other. And when the variables become more and more, the model will be more complicated and R^2 will decrease."
   ]
  },
  {
   "cell_type": "markdown",
   "id": "35866307",
   "metadata": {},
   "source": [
    "## Q5:"
   ]
  },
  {
   "cell_type": "markdown",
   "id": "c11dfe28",
   "metadata": {},
   "source": [
    "This illustrates that higher R^2 indicates that the model fits well in the train set, however, if R^2 in test set is much lower than that in train test, it might show that the model is overfitted in train set."
   ]
  },
  {
   "cell_type": "markdown",
   "id": "4dca8bf8",
   "metadata": {},
   "source": [
    "#### Summary:\n",
    "Data Preparation:\n",
    "\n",
    "We started by preparing the pokeaman dataset. Missing values in the \"Type 2\" column were filled with \"None,\" and the data was split 50-50 into training and testing sets.\n",
    "Initial Model (Model 3):\n",
    "\n",
    "We defined a linear regression model with HP as the dependent variable and Attack and Defense as predictors. This model was fitted on the training data.\n",
    "We evaluated model3 using \"in-sample\" and \"out-of-sample\" R-squared values, measuring its fit on training data and its generalizability to test data.\n",
    "Complex Model with Interactions (Model 4):\n",
    "\n",
    "A more complex linear model was defined with multiple interaction terms among Attack, Defense, Speed, Legendary, Sp. Def, and Sp. Atk.\n",
    "We avoided adding interactions with categorical variables Generation, Type 1, and Type 2 due to the large number of combinations.\n",
    "This model was fitted to the training data, and a summary was generated.\n",
    "Evaluation and Comparison:\n",
    "\n",
    "model4 was also evaluated using \"in-sample\" and \"out-of-sample\" R-squared values to assess how well it generalized to the test data.\n",
    "With both models’ R-squared values, you can compare the simpler and complex models to see which one better balances accuracy and generalization.\n",
    "The conversation provided an end-to-end process for data preparation, model building, and evaluation, highlighting the importance of checking for overfitting and generalization with training and test sets."
   ]
  },
  {
   "cell_type": "markdown",
   "id": "475b7c5b",
   "metadata": {},
   "source": [
    "#### Link: https://chatgpt.com/share/6735735f-e2e4-8003-82e7-bedcfc79e927"
   ]
  },
  {
   "cell_type": "markdown",
   "id": "ba386b98",
   "metadata": {},
   "source": [
    "## Q7:"
   ]
  },
  {
   "cell_type": "markdown",
   "id": "e02290b1",
   "metadata": {},
   "source": [
    "1. model5_linear_form is extended and developed from model3_fit and model4_fit: model3 uses centered and standard continuous variables to predict HP, and model4 add the interactions of Attack, Defense, Speed, and Legendary. Model5 adds indicator variables which simplized the interactions.\n",
    "\n",
    "2. model6_linear_form is extended and developed from model5_linear_form: Model6 only keeps the distinct predict variables to make the model less complicated.\n",
    "\n",
    "3. model7_linear_form is extended and developed from model6_linear_form: Model7 adds interactions of continuous variables to analyse more complicated connections."
   ]
  },
  {
   "cell_type": "markdown",
   "id": "9f2323bf",
   "metadata": {},
   "source": [
    "#### Summary:\n",
    "Modeling Progression:\n",
    "\n",
    "We discussed your development of a series of linear regression models in Python using statsmodels. Each model progressively builds on the previous one by adding predictors, interactions, and centering/scaling of variables to improve fit and interpretability.\n",
    "Model Specifications:\n",
    "\n",
    "Starting from model3 and model4, which included continuous predictors with centering and scaling, you moved to model5, which added more predictors and included categorical indicators like Generation and Type.\n",
    "In model6, you refined the model by retaining only the significant predictors identified in model5, focusing on those with the most explanatory power (e.g., specific types and generations).\n",
    "model7 introduced higher-order interactions among continuous predictors to capture more complex relationships, while retaining significant categorical indicators. model7_CS further centered and scaled the continuous variables to improve model stability and interpretability.\n",
    "Rationale and Principles:\n",
    "\n",
    "We outlined the rationale for each model's development, following principles like incremental complexity, parsimony, and the balance between significance and interpretability. Each model is designed to build on insights from the previous, focusing on simplifying or adding complexity as needed.\n",
    "Interpretability and Numerical Stability:\n",
    "\n",
    "We noted the benefits of centering and scaling in terms of numerical stability (reflected in the Condition Number) and interpretability, especially for interaction terms."
   ]
  },
  {
   "cell_type": "markdown",
   "id": "cd154cb0",
   "metadata": {},
   "source": [
    "#### Link: https://chatgpt.com/share/67357b47-2ffc-8003-8adb-a4ba1e2785d8"
   ]
  },
  {
   "cell_type": "markdown",
   "id": "8a618b4d",
   "metadata": {},
   "source": [
    "## Q9:"
   ]
  },
  {
   "cell_type": "markdown",
   "id": "b9eb2766",
   "metadata": {},
   "source": [
    "1. This illustrates the generlize ability of model7, indicating its difference in train set and test set.\n",
    "\n",
    "2. This illustrates the generlize ability of model6 based on the improvements from model1 to model5.\n",
    "\n",
    "3. This shows the generlize ability of model6 in different datasets.\n",
    "\n",
    "4. This shows the performance of model6 predicting data after training."
   ]
  },
  {
   "cell_type": "markdown",
   "id": "0e556b70",
   "metadata": {},
   "source": [
    "#### Summary:\n",
    "Model Evaluation across Generations: We examined different versions of linear regression models (model6 and model7) fitted on specific subsets of Pokémon data based on generations, with a focus on evaluating each model's in-sample and out-of-sample performance.\n",
    "\n",
    "\"In-sample\" vs. \"Out-of-sample\" R-squared:\n",
    "\n",
    "In-sample R-squared represents how well the model fits the data it was trained on.\n",
    "Out-of-sample R-squared provides an indication of the model’s ability to generalize to new data, highlighting its predictive power on data it hasn't seen before.\n",
    "Generation-specific Training:\n",
    "\n",
    "We looked at models trained only on Generation 1 data and models trained on Generations 1 to 5, then assessed their performance on non-training generations (like Generation 6).\n",
    "This approach showed the model’s generalization ability across different Pokémon generations, illustrating whether a model trained on specific data subsets can predict outcomes for other subsets.\n",
    "Generalization and Data Distribution:\n",
    "\n",
    "Through R-squared comparisons across different generations, we observed how data distribution differences across generations could impact model performance. Lower out-of-sample R-squared values often suggested a lack of model generalization, likely due to differences in data characteristics between generations.\n",
    "Overall, these discussions highlighted the importance of understanding how well models generalize across different data subsets and generations, with R-squared values helping to quantify model performance in both familiar and new contexts."
   ]
  },
  {
   "cell_type": "markdown",
   "id": "effef98e",
   "metadata": {},
   "source": [
    "#### Link: https://chatgpt.com/share/673589dc-5ba8-8003-a69d-a4aa2730c464"
   ]
  },
  {
   "cell_type": "code",
   "execution_count": null,
   "id": "6daed7db",
   "metadata": {},
   "outputs": [],
   "source": []
  }
 ],
 "metadata": {
  "kernelspec": {
   "display_name": "Python 3 (ipykernel)",
   "language": "python",
   "name": "python3"
  },
  "language_info": {
   "codemirror_mode": {
    "name": "ipython",
    "version": 3
   },
   "file_extension": ".py",
   "mimetype": "text/x-python",
   "name": "python",
   "nbconvert_exporter": "python",
   "pygments_lexer": "ipython3",
   "version": "3.11.6"
  }
 },
 "nbformat": 4,
 "nbformat_minor": 5
}
