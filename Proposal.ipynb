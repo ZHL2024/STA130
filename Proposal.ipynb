{
 "cells": [
  {
   "cell_type": "markdown",
   "id": "36b1bb0b",
   "metadata": {},
   "source": [
    "### Analysis 1:"
   ]
  },
  {
   "cell_type": "markdown",
   "id": "fce05154",
   "metadata": {},
   "source": [
    "#### Reaserch Question:"
   ]
  },
  {
   "cell_type": "markdown",
   "id": "a4a0d0b1",
   "metadata": {},
   "source": [
    "To discuss how loneliness will affect happiness.\n",
    "\n",
    "    Use the current dataset to estimate all Canadians.\n",
    "\n",
    "    Interested in the relationship between loneliness and happiness."
   ]
  },
  {
   "cell_type": "markdown",
   "id": "eae5e183",
   "metadata": {},
   "source": [
    "#### Variables:"
   ]
  },
  {
   "cell_type": "markdown",
   "id": "2c5200b2",
   "metadata": {},
   "source": [
    "“LONELY_ucla_loneliness_scale_score”:\n",
    "    This reflects how lonely a person is.\n",
    "\n",
    "“WELLNESS_subjective_happiness_scale_score”:\n",
    "    This reflects how happily a person is.\n",
    "    \n",
    "Scatter plots may be helpful because it can roughly present the relationship between the two variables, which can help us judge whether they have linear relationship or not. "
   ]
  },
  {
   "cell_type": "markdown",
   "id": "64b06c10",
   "metadata": {},
   "source": [
    "#### Analyses plan to perform:"
   ]
  },
  {
   "cell_type": "markdown",
   "id": "50510af7",
   "metadata": {},
   "source": [
    "1. Draw a scatter plot between the two variables.\n",
    "2. Use Simple Linear Regression to evaluate their correlation and linear relationship.\n",
    "3. Use the evaluation to test hypothesis."
   ]
  },
  {
   "cell_type": "markdown",
   "id": "8e32fdec",
   "metadata": {},
   "source": [
    "#### Hypothesis:"
   ]
  },
  {
   "cell_type": "markdown",
   "id": "1eec00c8",
   "metadata": {},
   "source": [
    "There is a strong negative correlation between “LONELY_ucla_loneliness_scale_score” and “WELLNESS_subjective_happiness_scale_score”.\n",
    "\n",
    "If it is true, then it will indicate that loneliness will have a negative effect on one's happiness."
   ]
  },
  {
   "cell_type": "markdown",
   "id": "181b166c",
   "metadata": {},
   "source": [
    "### Analysis 2:"
   ]
  },
  {
   "cell_type": "markdown",
   "id": "f46471e5",
   "metadata": {},
   "source": [
    "#### Reaserch Question:"
   ]
  },
  {
   "cell_type": "markdown",
   "id": "745b766b",
   "metadata": {},
   "source": [
    "To discuss how people are satisfied with their lives.\n",
    "    \n",
    "    Use the current dataset to esimate all Canadians.\n",
    "    \n",
    "    Interested in people's attitudes toward their lives."
   ]
  },
  {
   "cell_type": "markdown",
   "id": "2145a8d3",
   "metadata": {},
   "source": [
    "#### Variables:"
   ]
  },
  {
   "cell_type": "markdown",
   "id": "7870deb9",
   "metadata": {},
   "source": [
    "'WELLNESS_life_satisfaction': This reflects how satisied a person is.\n",
    "\n",
    "Histogram may be helpful because it can demonstrate the distribution of people's 'WELLNESS_life_satisfaction' scores roughly."
   ]
  },
  {
   "cell_type": "markdown",
   "id": "2e7292f4",
   "metadata": {},
   "source": [
    "#### Analyses plan to perform:"
   ]
  },
  {
   "cell_type": "markdown",
   "id": "58012386",
   "metadata": {},
   "source": [
    "1. Make a hypothesis of the mean of 'WELLNESS_life_satisfaction'.\n",
    "2. Use bootstrap to construct the confidence interval of the mean.\n",
    "3. Judge whether to reject the hypothesis or not."
   ]
  },
  {
   "cell_type": "markdown",
   "id": "e45c2bd5",
   "metadata": {},
   "source": [
    "#### Hypothesis:"
   ]
  },
  {
   "cell_type": "markdown",
   "id": "36674633",
   "metadata": {},
   "source": [
    "The mean of 'WELLNESS_life_satisfaction' is 5.\n",
    "If it is true, then it will indicates that Canadians feel neutral about their lives."
   ]
  },
  {
   "cell_type": "markdown",
   "id": "cb1157ae",
   "metadata": {},
   "source": [
    "### Analysis 3:"
   ]
  },
  {
   "cell_type": "markdown",
   "id": "e86b2061",
   "metadata": {},
   "source": [
    "#### Reaserch Question:"
   ]
  },
  {
   "cell_type": "markdown",
   "id": "0e9a3d0c",
   "metadata": {},
   "source": [
    "To discuss how loneliness will affect life satisfactions.\n",
    "    \n",
    "    Use the current dataset to estimate all Canadians.\n",
    "    \n",
    "    Interested in the relationship between loneliness and life satisfactions."
   ]
  },
  {
   "cell_type": "markdown",
   "id": "214c819d",
   "metadata": {},
   "source": [
    "#### Variables:"
   ]
  },
  {
   "cell_type": "markdown",
   "id": "80cb4b80",
   "metadata": {},
   "source": [
    "“LONELY_ucla_loneliness_scale_score”: This reflects how lonely a person is.\n",
    "\n",
    "'WELLNESS_life_satisfaction': This reflects how satisied a person is.\n",
    "\n",
    "Scatter plots may be helpful because it can roughly present the relationship between the two variables, which can help us judge whether they have linear relationship or not."
   ]
  },
  {
   "cell_type": "markdown",
   "id": "25d62194",
   "metadata": {},
   "source": [
    "#### Analyses plan to perform:"
   ]
  },
  {
   "cell_type": "markdown",
   "id": "924d7484",
   "metadata": {},
   "source": [
    "1. Draw a scatter plot between the two variables.\n",
    "2. Use Simple Linear Regression to evaluate their correlation and linear relationship.\n",
    "3. Use the evaluation to test hypothesis."
   ]
  },
  {
   "cell_type": "markdown",
   "id": "b4164e19",
   "metadata": {},
   "source": [
    "#### Hypothesis:"
   ]
  },
  {
   "cell_type": "markdown",
   "id": "d6e2895f",
   "metadata": {},
   "source": [
    "There is a strong negative correlation between “LONELY_ucla_loneliness_scale_score” and 'WELLNESS_life_satisfaction'.\n",
    "\n",
    "If it is true, then it will indicate that loneliness will have a negative effect on one's life satisfaction."
   ]
  }
 ],
 "metadata": {
  "kernelspec": {
   "display_name": "Python 3 (ipykernel)",
   "language": "python",
   "name": "python3"
  },
  "language_info": {
   "codemirror_mode": {
    "name": "ipython",
    "version": 3
   },
   "file_extension": ".py",
   "mimetype": "text/x-python",
   "name": "python",
   "nbconvert_exporter": "python",
   "pygments_lexer": "ipython3",
   "version": "3.11.6"
  }
 },
 "nbformat": 4,
 "nbformat_minor": 5
}
