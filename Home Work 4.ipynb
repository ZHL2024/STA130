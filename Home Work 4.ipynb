{
 "cells": [
  {
   "cell_type": "markdown",
   "id": "e90ce333",
   "metadata": {},
   "source": [
    "## Q1:"
   ]
  },
  {
   "cell_type": "markdown",
   "id": "53de7637",
   "metadata": {},
   "source": [
    "### The difference between the standard deviation and the standard error of the mean are that the standard deviation evaluates the discrete extent of the certain sample from the population, while the standard error of the mean evaluates how the mean of the sample is close to the mean of the population."
   ]
  },
  {
   "cell_type": "markdown",
   "id": "2370bfda",
   "metadata": {},
   "source": [
    "### The standard deviation captures the idea of distribution range of the sample, and the standard error of the mean captures the idea of the reliability of the mean of the sample."
   ]
  },
  {
   "cell_type": "markdown",
   "id": "89d6bfa4",
   "metadata": {},
   "source": [
    "Summary: \n",
    "\n",
    "In our conversation, we discussed the difference between standard deviation (SD) and standard error of the mean (SEM):\n",
    "\n",
    "Standard Deviation (SD) measures the spread or variability of data points within a dataset. It reflects how much individual data points deviate from the mean, giving a sense of the overall distribution and variability within the data.\n",
    "\n",
    "Standard Error of the Mean (SEM) measures the precision of the sample mean as an estimate of the population mean. It indicates how much the sample mean would vary if multiple samples were taken, and it decreases as the sample size increases.\n",
    "\n",
    "The key distinction is that SD captures the variability within the dataset itself, while SEM captures the uncertainty or precision of the sample mean as a representation of the population mean.\n",
    "\n",
    "Link: https://chatgpt.com/share/66fdcbb7-80cc-8003-9582-dea0c03862a6"
   ]
  },
  {
   "cell_type": "markdown",
   "id": "0eda3f02",
   "metadata": {},
   "source": [
    "## Q2:"
   ]
  },
  {
   "cell_type": "markdown",
   "id": "b17c4b09",
   "metadata": {},
   "source": [
    "### To create a 95% confidence interval which covers 95% of the bootstrapped sample using the standard error of the mean, we need to first calculate the mean of original data. Then take several samples and calculate their means. Then calculate the standard error of the mean. After that, we use the mean of original data minus 2 times SEM as the left bound of the confidence interval and the mean of original data plus 2 times SEM as the right bound of the confidence interval to construct the confidence interval."
   ]
  },
  {
   "cell_type": "markdown",
   "id": "c2aa9d1b",
   "metadata": {},
   "source": [
    "Summary:\n",
    "\n",
    "You asked how to use the standard error of the mean (SEM) to create a 95% confidence interval that covers 95% of the bootstrapped sample means. I explained the steps:\n",
    "\n",
    "Calculate the SEM, which is the standard deviation of the sample divided by the square root of the sample size.\n",
    "\n",
    "Find the critical value for 95% confidence, which is approximately 1.96 for a normal distribution.\n",
    "\n",
    "Compute the confidence interval using the formula:\n",
    "CI\n",
    "=\n",
    "𝑥\n",
    "ˉ\n",
    "±\n",
    "(\n",
    "1.96\n",
    "×\n",
    "SEM\n",
    ")\n",
    "CI= \n",
    "x\n",
    "ˉ\n",
    " ±(1.96×SEM)\n",
    "where \n",
    "𝑥\n",
    "ˉ\n",
    "  is the sample mean.\n",
    "\n",
    "The resulting confidence interval will cover 95% of the bootstrapped sample means if the distribution of sample means is approximately normal.\n",
    "This interval will contain the true population mean 95% of the time across different samples.\n",
    "\n",
    "Link:https://chatgpt.com/share/66fdd3a5-cabc-8003-817c-641d5b65db63"
   ]
  },
  {
   "cell_type": "markdown",
   "id": "c95141ce",
   "metadata": {},
   "source": [
    "## Q3:"
   ]
  },
  {
   "cell_type": "markdown",
   "id": "12c3b68a",
   "metadata": {},
   "source": [
    "### To create a 95% bootstrapped confidence interval using the bootstrapped means, we need to first take a lot of samples from original data. Then calculate the mean of every sample. Then we sort the means in ascending order. After that, we find the 2.5th percentile and 97.5th percentile of the means, which bounded the confidence interval."
   ]
  },
  {
   "cell_type": "markdown",
   "id": "f1ed01d3",
   "metadata": {},
   "source": [
    "Summary:\n",
    "\n",
    "In this conversation, you asked about how to create a 95% bootstrapped confidence interval using bootstrapped means, without relying on the standard deviation to estimate the standard error of the mean. I explained the process step-by-step, which involves resampling data with replacement, computing the means for each resample, sorting the bootstrapped means, and then identifying the 2.5th and 97.5th percentiles of those means to form the confidence interval.\n",
    "\n",
    "Link:https://chatgpt.com/share/66fdddf5-0fd0-8003-8685-d393ad02b1de"
   ]
  },
  {
   "cell_type": "markdown",
   "id": "aeac9b97",
   "metadata": {},
   "source": [
    "## Q4:"
   ]
  },
  {
   "cell_type": "code",
   "execution_count": 7,
   "id": "296fcc54",
   "metadata": {},
   "outputs": [
    {
     "name": "stdout",
     "output_type": "stream",
     "text": [
      "Sample Mean: 48.12\n",
      "95% Bootstrap Confidence Interval for the Mean: (44.80, 51.32)\n"
     ]
    }
   ],
   "source": [
    "import numpy as np\n",
    "\n",
    "# Step 1: Create a sample (for example, a random sample of 30 data points from a normal distribution)\n",
    "np.random.seed(42)  # Set seed for reproducibility\n",
    "sample = np.random.normal(loc=50, scale=10, size=30)  # Mean 50, standard deviation 10, sample size 30\n",
    "\n",
    "# Step 2: Define a function to generate bootstrap samples and compute bootstrap means\n",
    "def bootstrap_ci(sample, num_bootstrap=1000, ci_level=95):\n",
    "    # Generate bootstrap samples\n",
    "    bootstrap_means = []\n",
    "    for _ in range(num_bootstrap):\n",
    "        bootstrap_sample = np.random.choice(sample, size=len(sample), replace=True)\n",
    "        bootstrap_means.append(np.mean(bootstrap_sample))\n",
    "\n",
    "    # Calculate the confidence interval\n",
    "    lower_percentile = (100 - ci_level) / 2\n",
    "    upper_percentile = ci_level + lower_percentile\n",
    "    ci_lower = np.percentile(bootstrap_means, lower_percentile)\n",
    "    ci_upper = np.percentile(bootstrap_means, upper_percentile)\n",
    "\n",
    "    return ci_lower, ci_upper\n",
    "\n",
    "# Step 3: Calculate the 95% bootstrap confidence interval\n",
    "ci_lower, ci_upper = bootstrap_ci(sample)\n",
    "\n",
    "print(f\"Sample Mean: {np.mean(sample):.2f}\")\n",
    "print(f\"95% Bootstrap Confidence Interval for the Mean: ({ci_lower:.2f}, {ci_upper:.2f})\")\n"
   ]
  },
  {
   "cell_type": "markdown",
   "id": "918104ba",
   "metadata": {},
   "source": [
    "Summary:\n",
    "\n",
    "Here's a summary of our conversation:\n",
    "\n",
    "You asked for code to produce a 95% bootstrap confidence interval for a population mean based on a sample. I provided a Python example that:\n",
    "\n",
    "Creates a random sample of 30 data points from a normal distribution.\n",
    "Uses bootstrapping (resampling with replacement) to generate means for multiple resampled datasets.\n",
    "Calculates the 95% confidence interval by finding the 2.5th and 97.5th percentiles of the bootstrap means.\n",
    "Displays both the sample mean and the 95% bootstrap confidence interval.\n",
    "This approach allows you to estimate the population mean's confidence interval using resampling methods.\n",
    "\n",
    "Link:https://chatgpt.com/share/66fde06a-4520-8003-badc-ddf00551486c"
   ]
  },
  {
   "cell_type": "markdown",
   "id": "9814904d",
   "metadata": {},
   "source": [
    "## Q5:"
   ]
  },
  {
   "cell_type": "markdown",
   "id": "323681d6",
   "metadata": {},
   "source": [
    "### We need to distinguish between the role of the population parameter and the sample statistic when it comes to confidence intervals because typically the sample statistic is computable and can be used to analyse the population, while population parameter is used to describe the population and is incomputable."
   ]
  },
  {
   "cell_type": "markdown",
   "id": "800fca5e",
   "metadata": {},
   "source": [
    "Summary:\n",
    "\n",
    "We discussed the importance of distinguishing between the population parameter and the sample statistic when dealing with confidence intervals. The population parameter represents the true value we aim to estimate (like the population mean), while the sample statistic is an estimate based on the data from a sample. Confidence intervals are constructed around the sample statistic to provide a range of values that likely contain the true population parameter, accounting for uncertainty due to sample variability. The distinction helps clarify that the interval reflects uncertainty in the population parameter, not the sample statistic.\n",
    "\n",
    "Link:https://chatgpt.com/share/66fde877-9884-8003-8010-b40fda2f35a6"
   ]
  },
  {
   "cell_type": "markdown",
   "id": "e73251c4",
   "metadata": {},
   "source": [
    "## Q6:"
   ]
  },
  {
   "cell_type": "markdown",
   "id": "2c883ea0",
   "metadata": {},
   "source": [
    "### 1. The process of bootstrapping is that we find a general sample from the population, then take a lot of samples from the general sample, whose elements can be repeated and are chosen randomly, then we calculate the statistics we want to analyse, and we repeat this process for many times to use the distribution of the statistics to indicate the distribution of the population.\n",
    "\n",
    "### 2. The main purpose of bootstrapping is to infer the distribution of the population by using the statistics of multiple samples generated by choosing randomly for a lot of times.\n",
    "\n",
    "### 3. I will randomly take many other samples with the size of n, and calculate their means and get the distribution of the means, then I will check whether my hypothesis is in the confidence interval. If it is in the confidence interval, then my guess might be plausible, otherwise, my guess might be implausible."
   ]
  },
  {
   "cell_type": "markdown",
   "id": "7c73a1c9",
   "metadata": {},
   "source": [
    "## Q7:"
   ]
  },
  {
   "cell_type": "markdown",
   "id": "34614c19",
   "metadata": {},
   "source": [
    "#### Since the variability of samples may be strong, or the quantity of samples is too small, thus, a confidence interval overlapping zero \"fail to reject the null hypothesis\" when the observed sample mean statistic itself is not zero."
   ]
  },
  {
   "cell_type": "markdown",
   "id": "2b7248f5",
   "metadata": {},
   "source": [
    "## Q8:"
   ]
  },
  {
   "cell_type": "markdown",
   "id": "6963a630",
   "metadata": {},
   "source": [
    "#### Null Hypothesis: The vaccine has no effect on patients.\n",
    "#### H0: FinalHealthScore - InitialHealthScore = 0"
   ]
  },
  {
   "cell_type": "code",
   "execution_count": 1,
   "id": "d8ab9edf",
   "metadata": {},
   "outputs": [
    {
     "data": {
      "text/html": [
       "<div>\n",
       "<style scoped>\n",
       "    .dataframe tbody tr th:only-of-type {\n",
       "        vertical-align: middle;\n",
       "    }\n",
       "\n",
       "    .dataframe tbody tr th {\n",
       "        vertical-align: top;\n",
       "    }\n",
       "\n",
       "    .dataframe thead th {\n",
       "        text-align: right;\n",
       "    }\n",
       "</style>\n",
       "<table border=\"1\" class=\"dataframe\">\n",
       "  <thead>\n",
       "    <tr style=\"text-align: right;\">\n",
       "      <th></th>\n",
       "      <th>PatientID</th>\n",
       "      <th>Age</th>\n",
       "      <th>Gender</th>\n",
       "      <th>InitialHealthScore</th>\n",
       "      <th>FinalHealthScore</th>\n",
       "      <th>difference</th>\n",
       "    </tr>\n",
       "  </thead>\n",
       "  <tbody>\n",
       "    <tr>\n",
       "      <th>0</th>\n",
       "      <td>1</td>\n",
       "      <td>45</td>\n",
       "      <td>M</td>\n",
       "      <td>84</td>\n",
       "      <td>86</td>\n",
       "      <td>2</td>\n",
       "    </tr>\n",
       "    <tr>\n",
       "      <th>1</th>\n",
       "      <td>2</td>\n",
       "      <td>34</td>\n",
       "      <td>F</td>\n",
       "      <td>78</td>\n",
       "      <td>86</td>\n",
       "      <td>8</td>\n",
       "    </tr>\n",
       "    <tr>\n",
       "      <th>2</th>\n",
       "      <td>3</td>\n",
       "      <td>29</td>\n",
       "      <td>M</td>\n",
       "      <td>83</td>\n",
       "      <td>80</td>\n",
       "      <td>-3</td>\n",
       "    </tr>\n",
       "    <tr>\n",
       "      <th>3</th>\n",
       "      <td>4</td>\n",
       "      <td>52</td>\n",
       "      <td>F</td>\n",
       "      <td>81</td>\n",
       "      <td>86</td>\n",
       "      <td>5</td>\n",
       "    </tr>\n",
       "    <tr>\n",
       "      <th>4</th>\n",
       "      <td>5</td>\n",
       "      <td>37</td>\n",
       "      <td>M</td>\n",
       "      <td>81</td>\n",
       "      <td>84</td>\n",
       "      <td>3</td>\n",
       "    </tr>\n",
       "    <tr>\n",
       "      <th>5</th>\n",
       "      <td>6</td>\n",
       "      <td>41</td>\n",
       "      <td>F</td>\n",
       "      <td>80</td>\n",
       "      <td>86</td>\n",
       "      <td>6</td>\n",
       "    </tr>\n",
       "    <tr>\n",
       "      <th>6</th>\n",
       "      <td>7</td>\n",
       "      <td>33</td>\n",
       "      <td>M</td>\n",
       "      <td>79</td>\n",
       "      <td>86</td>\n",
       "      <td>7</td>\n",
       "    </tr>\n",
       "    <tr>\n",
       "      <th>7</th>\n",
       "      <td>8</td>\n",
       "      <td>48</td>\n",
       "      <td>F</td>\n",
       "      <td>85</td>\n",
       "      <td>82</td>\n",
       "      <td>-3</td>\n",
       "    </tr>\n",
       "    <tr>\n",
       "      <th>8</th>\n",
       "      <td>9</td>\n",
       "      <td>26</td>\n",
       "      <td>M</td>\n",
       "      <td>76</td>\n",
       "      <td>83</td>\n",
       "      <td>7</td>\n",
       "    </tr>\n",
       "    <tr>\n",
       "      <th>9</th>\n",
       "      <td>10</td>\n",
       "      <td>39</td>\n",
       "      <td>F</td>\n",
       "      <td>83</td>\n",
       "      <td>84</td>\n",
       "      <td>1</td>\n",
       "    </tr>\n",
       "  </tbody>\n",
       "</table>\n",
       "</div>"
      ],
      "text/plain": [
       "   PatientID  Age Gender  InitialHealthScore  FinalHealthScore  difference\n",
       "0          1   45      M                  84                86           2\n",
       "1          2   34      F                  78                86           8\n",
       "2          3   29      M                  83                80          -3\n",
       "3          4   52      F                  81                86           5\n",
       "4          5   37      M                  81                84           3\n",
       "5          6   41      F                  80                86           6\n",
       "6          7   33      M                  79                86           7\n",
       "7          8   48      F                  85                82          -3\n",
       "8          9   26      M                  76                83           7\n",
       "9         10   39      F                  83                84           1"
      ]
     },
     "execution_count": 1,
     "metadata": {},
     "output_type": "execute_result"
    }
   ],
   "source": [
    "import pandas as pd\n",
    "\n",
    "data = {\"PatientID\": [1, 2, 3, 4, 5, 6, 7, 8, 9, 10],\n",
    "    \"Age\": [45, 34, 29, 52, 37, 41, 33, 48, 26, 39],\n",
    "    \"Gender\": [\"M\", \"F\", \"M\", \"F\", \"M\", \"F\", \"M\", \"F\", \"M\", \"F\"],\n",
    "    \"InitialHealthScore\": [84, 78, 83, 81, 81, 80, 79, 85, 76, 83],\n",
    "    \"FinalHealthScore\": [86, 86, 80, 86, 84, 86, 86, 82, 83, 84]}\n",
    "\n",
    "df = pd.DataFrame(data)\n",
    "\n",
    "df['difference'] = df.FinalHealthScore - df.InitialHealthScore\n",
    "\n",
    "df"
   ]
  },
  {
   "cell_type": "code",
   "execution_count": 2,
   "id": "e7c6d540",
   "metadata": {},
   "outputs": [
    {
     "data": {
      "image/png": "[encoded data removed]"
     },
     "metadata": {},
     "output_type": "display_data"
    }
   ],
   "source": [
    "import plotly.express as px\n",
    "fig = px.histogram(df, x = 'difference', nbins = 10)\n",
    "fig.show(renderer=\"png\")"
   ]
  },
  {
   "cell_type": "code",
   "execution_count": 5,
   "id": "0e0d2664",
   "metadata": {},
   "outputs": [
    {
     "data": {
      "image/png": "[encoded data removed]"
     },
     "metadata": {},
     "output_type": "display_data"
    }
   ],
   "source": [
    "import numpy as np\n",
    "n = 10000\n",
    "bootstrap_mean = np.zeros(n)\n",
    "\n",
    "np.random.seed(1)\n",
    "\n",
    "for i in range(n):\n",
    "    bootstrap_sample = np.random.choice(df.difference, size = len(df.difference), replace = True)\n",
    "    bootstrap_mean[i] = np.mean(bootstrap_sample)\n",
    "px.histogram(pd.DataFrame({'x':bootstrap_mean}),x = 'x')\n",
    "fig.show(renderer=\"png\")"
   ]
  },
  {
   "cell_type": "code",
   "execution_count": 6,
   "id": "fbc5360e",
   "metadata": {},
   "outputs": [
    {
     "data": {
      "text/plain": [
       "array([0.8, 5.6])"
      ]
     },
     "execution_count": 6,
     "metadata": {},
     "output_type": "execute_result"
    }
   ],
   "source": [
    "np.quantile(bootstrap_mean,[0.025,0.975])"
   ]
  },
  {
   "cell_type": "markdown",
   "id": "5046c7fe",
   "metadata": {},
   "source": [
    "#### Since 0 is not in the interval above, we reject H0. Thus the vaccine is effective."
   ]
  },
  {
   "cell_type": "code",
   "execution_count": null,
   "id": "3471d4c4",
   "metadata": {},
   "outputs": [],
   "source": []
  }
 ],
 "metadata": {
  "kernelspec": {
   "display_name": "Python 3 (ipykernel)",
   "language": "python",
   "name": "python3"
  },
  "language_info": {
   "codemirror_mode": {
    "name": "ipython",
    "version": 3
   },
   "file_extension": ".py",
   "mimetype": "text/x-python",
   "name": "python",
   "nbconvert_exporter": "python",
   "pygments_lexer": "ipython3",
   "version": "3.11.6"
  }
 },
 "nbformat": 4,
 "nbformat_minor": 5
}
